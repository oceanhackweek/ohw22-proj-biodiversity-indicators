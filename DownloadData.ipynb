{
 "cells": [
  {
   "cell_type": "markdown",
   "id": "31c3f3df-296b-4324-9da7-060c0076c336",
   "metadata": {},
   "source": [
    "# Descarga datos MODIS_AQUA_L3_SST_THERMAL_MONTHLY_4KM_NIGHTTIME_V2019.0\n"
   ]
  },
  {
   "cell_type": "code",
   "execution_count": 3,
   "id": "83df1479-8d3a-49d4-8ad5-3fabcf2c4a2a",
   "metadata": {},
   "outputs": [
    {
     "name": "stdout",
     "output_type": "stream",
     "text": [
      "Defaulting to user installation because normal site-packages is not writeable\n",
      "Collecting podaac-data-subscriber\n",
      "  Downloading podaac_data_subscriber-1.10.2-py3-none-any.whl (22 kB)\n",
      "Requirement already satisfied: requests<3.0.0,>=2.27.1 in /opt/conda/lib/python3.9/site-packages (from podaac-data-subscriber) (2.28.1)\n",
      "Collecting tenacity<9.0.0,>=8.0.1\n",
      "  Downloading tenacity-8.0.1-py3-none-any.whl (24 kB)\n",
      "Requirement already satisfied: urllib3<1.27,>=1.21.1 in /opt/conda/lib/python3.9/site-packages (from requests<3.0.0,>=2.27.1->podaac-data-subscriber) (1.26.11)\n",
      "Requirement already satisfied: idna<4,>=2.5 in /opt/conda/lib/python3.9/site-packages (from requests<3.0.0,>=2.27.1->podaac-data-subscriber) (3.3)\n",
      "Requirement already satisfied: charset-normalizer<3,>=2 in /opt/conda/lib/python3.9/site-packages (from requests<3.0.0,>=2.27.1->podaac-data-subscriber) (2.1.0)\n",
      "Requirement already satisfied: certifi>=2017.4.17 in /opt/conda/lib/python3.9/site-packages (from requests<3.0.0,>=2.27.1->podaac-data-subscriber) (2022.6.15)\n",
      "Installing collected packages: tenacity, podaac-data-subscriber\n",
      "\u001b[33m  WARNING: The scripts podaac-data-downloader and podaac-data-subscriber are installed in '/home/jovyan/.local/bin' which is not on PATH.\n",
      "  Consider adding this directory to PATH or, if you prefer to suppress this warning, use --no-warn-script-location.\u001b[0m\n",
      "Successfully installed podaac-data-subscriber-1.10.2 tenacity-8.0.1\n",
      "Note: you may need to restart the kernel to use updated packages.\n"
     ]
    }
   ],
   "source": [
    "pip install podaac-data-subscriber"
   ]
  },
  {
   "cell_type": "code",
   "execution_count": 4,
   "id": "63a010d2-677b-40e9-8e22-8500e1fcd30b",
   "metadata": {},
   "outputs": [],
   "source": [
    "url=\"https://urs.earthdata.nasa.gov/\","
   ]
  },
  {
   "cell_type": "code",
   "execution_count": null,
   "id": "cf4faed3-9bf6-486a-b757-8a40cd6287be",
   "metadata": {},
   "outputs": [],
   "source": []
  }
 ],
 "metadata": {
  "kernelspec": {
   "display_name": "Python [conda env:root] *",
   "language": "python",
   "name": "conda-root-py"
  },
  "language_info": {
   "codemirror_mode": {
    "name": "ipython",
    "version": 3
   },
   "file_extension": ".py",
   "mimetype": "text/x-python",
   "name": "python",
   "nbconvert_exporter": "python",
   "pygments_lexer": "ipython3",
   "version": "3.9.13"
  }
 },
 "nbformat": 4,
 "nbformat_minor": 5
}
