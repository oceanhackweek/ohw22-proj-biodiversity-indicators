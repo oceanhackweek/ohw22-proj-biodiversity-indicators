{
 "cells": [
  {
   "cell_type": "markdown",
   "id": "31c3f3df-296b-4324-9da7-060c0076c336",
   "metadata": {},
   "source": [
    "# Descarga datos MODIS_AQUA_L3_SST_THERMAL_MONTHLY_4KM_NIGHTTIME_V2019.0\n"
   ]
  },
  {
   "cell_type": "code",
   "execution_count": null,
   "id": "83df1479-8d3a-49d4-8ad5-3fabcf2c4a2a",
   "metadata": {},
   "outputs": [],
   "source": []
  }
 ],
 "metadata": {
  "kernelspec": {
   "display_name": "Python [conda env:root] *",
   "language": "python",
   "name": "conda-root-py"
  },
  "language_info": {
   "codemirror_mode": {
    "name": "ipython",
    "version": 3
   },
   "file_extension": ".py",
   "mimetype": "text/x-python",
   "name": "python",
   "nbconvert_exporter": "python",
   "pygments_lexer": "ipython3",
   "version": "3.9.13"
  }
 },
 "nbformat": 4,
 "nbformat_minor": 5
}
