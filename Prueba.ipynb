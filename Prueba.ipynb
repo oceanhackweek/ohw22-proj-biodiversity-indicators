{
 "cells": [
  {
   "cell_type": "markdown",
   "id": "d83268ab-25dc-44a0-a818-a18642517c2b",
   "metadata": {},
   "source": [
    "# Titulo\n",
    "Este es un parrafo"
   ]
  },
  {
   "cell_type": "code",
   "execution_count": 3,
   "id": "a22ee7f8-6266-4591-b2b3-195436a242b8",
   "metadata": {},
   "outputs": [],
   "source": [
    "import h5py"
   ]
  }
 ],
 "metadata": {
  "kernelspec": {
   "display_name": "Python [conda env:root] *",
   "language": "python",
   "name": "conda-root-py"
  },
  "language_info": {
   "codemirror_mode": {
    "name": "ipython",
    "version": 3
   },
   "file_extension": ".py",
   "mimetype": "text/x-python",
   "name": "python",
   "nbconvert_exporter": "python",
   "pygments_lexer": "ipython3",
   "version": "3.9.13"
  }
 },
 "nbformat": 4,
 "nbformat_minor": 5
}
